{
 "cells": [
  {
   "cell_type": "markdown",
   "id": "e7f78e46-351b-4f4e-8ac7-7ffe665af09c",
   "metadata": {},
   "source": [
    "1. Из колоды в 52 карты извлекаются случайным образом 4 карты. a) Найти вероятность того, что все карты – крести. б) Найти вероятность, что среди 4-х карт окажется хотя бы один туз."
   ]
  },
  {
   "cell_type": "code",
   "execution_count": 43,
   "id": "b0a5efa6-3d1a-4787-b309-a34751b8ca1c",
   "metadata": {},
   "outputs": [
    {
     "data": {
      "text/plain": [
       "0.26"
      ]
     },
     "execution_count": 43,
     "metadata": {},
     "output_type": "execute_result"
    }
   ],
   "source": [
    "from math import factorial\n",
    "def combinations(n, k):\n",
    "    return factorial(n) / (factorial(n - k) * factorial(k))\n",
    "m = combinations(13, 4) #количество вариантов извлечь 4 крестовые карты\n",
    "n = combinations(52, 4) #количество всех возможных комбинаций\n",
    "P = (m/n)*100\n",
    "round(P,2)"
   ]
  },
  {
   "cell_type": "code",
   "execution_count": null,
   "id": "7434a8e8-a49c-42c1-9b01-095c8ca92b96",
   "metadata": {},
   "outputs": [],
   "source": [
    "Ответ (a): вероятность того, что что все карты – крести равна 0.26%"
   ]
  },
  {
   "cell_type": "code",
   "execution_count": 51,
   "id": "b9d254d7-2a29-4a3f-8e4f-84de04bf8637",
   "metadata": {},
   "outputs": [
    {
     "data": {
      "text/plain": [
       "28.13"
      ]
     },
     "execution_count": 51,
     "metadata": {},
     "output_type": "execute_result"
    }
   ],
   "source": [
    "from math import factorial\n",
    "def combinations(n, k):\n",
    "    return factorial(n) / (factorial(n - k) * factorial(k))\n",
    "#m = combinations(4, 1) #количество вариантов извлечь хотя бы один туз\n",
    "m=sum([combinations(4,1)*combinations(48,3),combinations(4,2)*combinations(48,2),combinations(4,3)*combinations(48,1),1])\n",
    "n = combinations(52, 4) #количество всех возможных комбинаций\n",
    "P = (m/n)*100\n",
    "round(P,2)"
   ]
  },
  {
   "cell_type": "code",
   "execution_count": null,
   "id": "ef249c54-f0b8-47ce-b46d-d364a677bd75",
   "metadata": {},
   "outputs": [],
   "source": [
    "Ответ (б): вероятность вытащить хотя бы один туз равна 28.13%"
   ]
  },
  {
   "cell_type": "markdown",
   "id": "6c71b292-baae-4d44-ad1c-e5a16d718963",
   "metadata": {},
   "source": [
    "2. На входной двери подъезда установлен кодовый замок, содержащий десять кнопок с цифрами от 0 до 9. Код содержит три цифры, которые нужно нажать одновременно. Какова вероятность того, что человек, не знающий код, откроет дверь с первой попытки?"
   ]
  },
  {
   "cell_type": "code",
   "execution_count": 46,
   "id": "e8c5000a-2b9b-409a-a2cc-64c1fc4eb468",
   "metadata": {},
   "outputs": [
    {
     "data": {
      "text/plain": [
       "0.83"
      ]
     },
     "execution_count": 46,
     "metadata": {},
     "output_type": "execute_result"
    }
   ],
   "source": [
    "from math import factorial\n",
    "def combinations(n, k):\n",
    "    return factorial(n) / (factorial(n - k) * factorial(k))\n",
    "m = combinations(1, 1) #Всего возможна 1 верная комбинация из 1\n",
    "n = combinations(10, 3) #количество всех возможных комбинаций\n",
    "P = (m/n)*100\n",
    "round(P,2)"
   ]
  },
  {
   "cell_type": "markdown",
   "id": "381c9490-35bb-4830-8658-4ceaa5e27dd2",
   "metadata": {},
   "source": [
    "*Ответ: вероятность того, что человек откроет дверь с первой попытки равна 1 / 120 или же 0.83%*"
   ]
  },
  {
   "cell_type": "markdown",
   "id": "f3f2df3c-a282-46c7-827e-0d856635072b",
   "metadata": {},
   "source": [
    "3. В ящике имеется 15 деталей, из которых 9 окрашены. Рабочий случайным образом извлекает 3 детали. Какова вероятность того, что все извлеченные детали окрашены?"
   ]
  },
  {
   "cell_type": "code",
   "execution_count": 47,
   "id": "b7c4b8b3-96cb-4fe3-a14e-73ed34f33b87",
   "metadata": {},
   "outputs": [
    {
     "data": {
      "text/plain": [
       "18.46"
      ]
     },
     "execution_count": 47,
     "metadata": {},
     "output_type": "execute_result"
    }
   ],
   "source": [
    "from math import factorial\n",
    "def combinations(n, k):\n",
    "    return factorial(n) / (factorial(n - k) * factorial(k))\n",
    "m = combinations(9, 3) #количество вариантов извлечь 3 окрашенные детали\n",
    "n = combinations(15, 3) #любой набор 3 деталей из 15\n",
    "P = (m / n)*100\n",
    "round(P,2)"
   ]
  },
  {
   "cell_type": "code",
   "execution_count": null,
   "id": "ddf543ea-ae1e-4939-b604-525b9b9b0542",
   "metadata": {},
   "outputs": [],
   "source": [
    "Ответ: вероятность вытащить 3 окрашенные детали равна 18.46%"
   ]
  },
  {
   "cell_type": "markdown",
   "id": "259a4fbf-65e9-4500-84a7-2234bf21f625",
   "metadata": {},
   "source": [
    "4. В лотерее 100 билетов. Из них 2 выигрышных. Какова вероятность того, что 2 приобретенных билета окажутся выигрышными?"
   ]
  },
  {
   "cell_type": "code",
   "execution_count": 48,
   "id": "c56c6fdf-5b8e-4f1d-a6f2-2365c8967405",
   "metadata": {},
   "outputs": [
    {
     "data": {
      "text/plain": [
       "0.02"
      ]
     },
     "execution_count": 48,
     "metadata": {},
     "output_type": "execute_result"
    }
   ],
   "source": [
    "from math import factorial\n",
    "def combinations(n, k):\n",
    "    return factorial(n) / (factorial(n - k) * factorial(k))\n",
    "m = combinations(2, 2) #количество вариантов извлечь 2 выигрышных билета\n",
    "n = combinations(100, 2) #любой набор 2 билетов из 100\n",
    "P = (m / n)*100\n",
    "round(P,2)"
   ]
  },
  {
   "cell_type": "code",
   "execution_count": null,
   "id": "c229f2a7-0d5c-4443-893f-af63678987f2",
   "metadata": {},
   "outputs": [],
   "source": [
    "Ответ: вероятность вытащить два выигрышных билета равна 0.02%"
   ]
  }
 ],
 "metadata": {
  "kernelspec": {
   "display_name": "Python 3 (ipykernel)",
   "language": "python",
   "name": "python3"
  },
  "language_info": {
   "codemirror_mode": {
    "name": "ipython",
    "version": 3
   },
   "file_extension": ".py",
   "mimetype": "text/x-python",
   "name": "python",
   "nbconvert_exporter": "python",
   "pygments_lexer": "ipython3",
   "version": "3.11.5"
  }
 },
 "nbformat": 4,
 "nbformat_minor": 5
}
