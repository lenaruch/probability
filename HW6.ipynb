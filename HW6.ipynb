{
 "cells": [
  {
   "cell_type": "markdown",
   "id": "f2dab08f-8bb3-44ec-a385-0a40b5098d60",
   "metadata": {},
   "source": [
    "1. Известно, что генеральная совокупность распределена нормально со средним квадратическим отклонением, равным 16.\n",
    "Найти доверительный интервал для оценки математического ожидания a с надежностью 0.95, если выборочная средняя M = 80, а объем выборки n = 256."
   ]
  },
  {
   "cell_type": "markdown",
   "id": "07b5f00e-7554-4df8-a3e7-908482d2a880",
   "metadata": {},
   "source": [
    "При известной $\\sigma$ генеральной совокупности для расчета доверительного интервала пирменяется $Z$-критерий.\n",
    "    \n",
    "n=256 - объем выборки\n",
    "\n",
    "$\\bar X=M=80$ - среднее значение выборки\n",
    "\n",
    "$\\sigma=16$ - среднее квадратическое отклонение генеральной совокупности\n",
    "\n",
    "$z_{\\alpha/2}=1,96$  - табличное значение $Z$-критерия для $95\\\\%$ доверительного интервала\n",
    "\n",
    "Формула нахождения доверительного интервала,\n",
    "\n",
    "$\\displaystyle\\bar X\\pm z_{\\alpha/2}\\cdot\\frac{\\sigma}{\\sqrt n}$\""
   ]
  },
  {
   "cell_type": "code",
   "execution_count": 3,
   "id": "1b7a3a2e-135e-478a-b043-c2a2c653cbc6",
   "metadata": {},
   "outputs": [],
   "source": [
    "import numpy as np\n",
    "import scipy.stats as stats"
   ]
  },
  {
   "cell_type": "code",
   "execution_count": 4,
   "id": "4fdb02d6-10fe-42b7-8360-ce6923f7a0b3",
   "metadata": {},
   "outputs": [
    {
     "name": "stdout",
     "output_type": "stream",
     "text": [
      ">>> Доверительный интервал: [78.04 ; 81.96].\n"
     ]
    }
   ],
   "source": [
    "l_border=80-1.96*16/256**0.5\n",
    "r_border=80+1.96*16/256**0.5\n",
    "print(f'>>> Доверительный интервал: [{l_border} ; {r_border}].')"
   ]
  },
  {
   "cell_type": "markdown",
   "id": "45388548-797a-416e-a5a9-7dfa239b504a",
   "metadata": {},
   "source": [
    "3. В результате 10 независимых измерений некоторой величины X, выполненных с одинаковой точностью, получены опытные данные:\n",
    "\n",
    "    6.9, 6.1, 6.2, 6.8, 7.5, 6.3, 6.4, 6.9, 6.7, 6.1\n",
    "\n",
    "    Предполагая, что результаты измерений подчинены нормальному закону распределения вероятностей, оценить истинное значение величины X при помощи доверительного интервала, покрывающего это значение с доверительной вероятностью 0,95"
   ]
  },
  {
   "cell_type": "markdown",
   "id": "40767eef-7711-4f8f-8b32-ec63e83f65cd",
   "metadata": {},
   "source": [
    "Если $\\sigma$ неизвестна, вычисляем ее по выборке, используя формулу для несмещенного стандартного отклонения.\n",
    "\n",
    "$\\displaystyle\\bar X\\pm t_{\\alpha/2}\\cdot\\frac{\\sigma}{\\sqrt{n}}$  "
   ]
  },
  {
   "cell_type": "code",
   "execution_count": 6,
   "id": "6598014b-ab2c-461b-8a95-8e6b6df8258a",
   "metadata": {},
   "outputs": [
    {
     "name": "stdout",
     "output_type": "stream",
     "text": [
      ">>> Среднее арифметическое для выборки: 6.590000000000001\n",
      ">>> Среднее квадратическое отклонение по выборке(несмещенное): 0.4508017549014448\n",
      ">>> Значение t-критерия для 0.95% доверительного интервала: 2.2621571627409915\n",
      ">>> Доверительный интервал для величины \"X\" составляет: [6.268 ; 6.912]\n"
     ]
    }
   ],
   "source": [
    "array = [6.9, 6.1, 6.2, 6.8, 7.5, 6.3, 6.4, 6.9, 6.7, 6.1]\n",
    "n = len(array)\n",
    "x = np.mean(array)\n",
    "print(f'>>> Среднее арифметическое для выборки: {x}')\n",
    "a = 0.05\n",
    "sigma = np.std(array, ddof=1)\n",
    "print(f'>>> Среднее квадратическое отклонение по выборке(несмещенное): {sigma}')\n",
    "stats = stats.t.ppf( 1-a/2, n-1)\n",
    "print(f'>>> Значение t-критерия для {1-a}% доверительного интервала: {stats}')\n",
    "l_border=x-stats*sigma/np.sqrt(n)\n",
    "r_border=x+stats*sigma/np.sqrt(n)\n",
    "print(f'>>> Доверительный интервал для величины \"X\" составляет: [{l_border:.3f} ; {r_border:.3f}]')"
   ]
  },
  {
   "cell_type": "markdown",
   "id": "6f8a3f0c-effe-4211-9647-8bc37681d66c",
   "metadata": {},
   "source": [
    "3. Рост дочерей 175, 167, 154, 174, 178, 148, 160, 167, 169, 170\n",
    "\n",
    "    Рост матерей  178, 165, 165, 173, 168, 155, 160, 164, 178, 175\n",
    "\n",
    "    Используя эти данные построить 95% доверительный интервал для разности среднего роста родителей и детей."
   ]
  },
  {
   "cell_type": "markdown",
   "id": "d738622f-1aa8-4c55-9345-6b0f29677e94",
   "metadata": {},
   "source": [
    "Интервальная оценка для разности средних арифметических по формуле:\n",
    "\n",
    "$\\bar{x}_1 - \\bar{x}2 \\pm t{\\frac{\\alpha}{2}} \\sqrt{\\frac{s_1^2}{n_1} + \\frac{s_2^2}{n_2}}$\n",
    "    \n",
    "где:\n",
    "    \n",
    "$\\bar{x}_1$ - среднее арифметическое в группе 1\n",
    "    \n",
    "$\\bar{x}2$ - среднее арифметическое в группе 2\n",
    "    \n",
    "$s_1^2$ - дисперсия в группе 1\n",
    "    \n",
    "$s_2^2$ - дисперсия в группе 2\n",
    "    \n",
    "$n_1$ - число элементов в группе 1\n",
    "    \n",
    "$n_2$ - число элементов в группе 2"
   ]
  },
  {
   "cell_type": "code",
   "execution_count": 11,
   "id": "e6a03993-b9ea-47ec-a3d1-715f2cc14911",
   "metadata": {},
   "outputs": [
    {
     "name": "stdout",
     "output_type": "stream",
     "text": [
      ">>> 95% доверительный интервал для разности среднего роста родителей и детей: [-6.27, 10.07]\n"
     ]
    }
   ],
   "source": [
    "from scipy import stats\n",
    "mothers = np.array([178, 165, 165, 173, 168, 155, 160, 164, 178, 175])\n",
    "daughters = np.array([175, 167, 154, 174, 178, 148, 160, 167, 169, 170])\n",
    "\n",
    "difference_of_means = np.mean(mothers) - np.mean(daughters)\n",
    "standard_error = np.sqrt(np.var(mothers, ddof=1)/len(mothers) + np.var(daughters, ddof=1)/len(daughters))\n",
    "t_critical = stats.t.ppf(0.975, len(mothers) + len(daughters) - 2)\n",
    "l_border = difference_of_means - t_critical * standard_error\n",
    "r_border = difference_of_means + t_critical * standard_error\n",
    "\n",
    "print(f'>>> 95% доверительный интервал для разности среднего роста родителей и детей: [{l_border:.2f}, {r_border:.2f}]')"
   ]
  }
 ],
 "metadata": {
  "kernelspec": {
   "display_name": "Python 3 (ipykernel)",
   "language": "python",
   "name": "python3"
  },
  "language_info": {
   "codemirror_mode": {
    "name": "ipython",
    "version": 3
   },
   "file_extension": ".py",
   "mimetype": "text/x-python",
   "name": "python",
   "nbconvert_exporter": "python",
   "pygments_lexer": "ipython3",
   "version": "3.11.3"
  }
 },
 "nbformat": 4,
 "nbformat_minor": 5
}
