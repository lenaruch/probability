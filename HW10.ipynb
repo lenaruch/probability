{
 "cells": [
  {
   "cell_type": "markdown",
   "id": "0f8a063a-e2c9-434e-bca4-06c7fad40b31",
   "metadata": {},
   "source": [
    "1. Провести дисперсионный анализ для определения того, есть ли различия среднего роста среди взрослых футболистов, хоккеистов и штангистов.\n",
    "Даны значения роста в трех группах случайно выбранных спортсменов:\n",
    "\n",
    "    Футболисты: 173, 175, 180, 178, 177, 185, 183, 182.\n",
    "\n",
    "    Хоккеисты: 177, 179, 180, 188, 177, 172, 171, 184, 180.\n",
    "\n",
    "    Штангисты: 172, 173, 169, 177, 166, 180, 178, 177, 172, 166, 170."
   ]
  },
  {
   "cell_type": "code",
   "execution_count": 2,
   "id": "0faf6bec-eec1-48ee-993d-ad718b65d8c9",
   "metadata": {},
   "outputs": [],
   "source": [
    "import scipy.stats as stats\n",
    "import numpy as np"
   ]
  },
  {
   "cell_type": "code",
   "execution_count": 3,
   "id": "ffbb1d15-0815-4518-a162-95a48fb80877",
   "metadata": {},
   "outputs": [],
   "source": [
    "football_players=np.array([173, 175, 180, 178, 177, 185, 183, 182])\n",
    "hockey_players=np.array([177, 179, 180, 188, 177, 172, 171, 184, 180])\n",
    "weightlifters=np.array([172, 173, 169, 177, 166, 180, 178, 177, 172, 166, 170])"
   ]
  },
  {
   "cell_type": "code",
   "execution_count": 4,
   "id": "683bbc52-1aca-4d5b-8b85-e09ba4f06456",
   "metadata": {},
   "outputs": [],
   "source": [
    "alpha=0.05 "
   ]
  },
  {
   "cell_type": "markdown",
   "id": "1ee9c6b9-7f0d-4c80-91fa-bb7811aac9fe",
   "metadata": {},
   "source": [
    "Проверим данные на нормальность распределения"
   ]
  },
  {
   "cell_type": "code",
   "execution_count": 5,
   "id": "0295ac74-e70a-43aa-841e-84e7864c4c40",
   "metadata": {},
   "outputs": [
    {
     "data": {
      "text/plain": [
       "ShapiroResult(statistic=0.9775081982196379, pvalue=0.9495400664151513)"
      ]
     },
     "execution_count": 5,
     "metadata": {},
     "output_type": "execute_result"
    }
   ],
   "source": [
    "stats.shapiro(football_players)"
   ]
  },
  {
   "cell_type": "code",
   "execution_count": 6,
   "id": "e4fd00fc-7db6-4f3a-b643-c664416d2c19",
   "metadata": {},
   "outputs": [
    {
     "data": {
      "text/plain": [
       "ShapiroResult(statistic=0.957919718551844, pvalue=0.7763139669394437)"
      ]
     },
     "execution_count": 6,
     "metadata": {},
     "output_type": "execute_result"
    }
   ],
   "source": [
    "stats.shapiro(hockey_players)"
   ]
  },
  {
   "cell_type": "code",
   "execution_count": 7,
   "id": "04ef6726-ef6d-4135-a03d-12db5b7cb981",
   "metadata": {},
   "outputs": [
    {
     "data": {
      "text/plain": [
       "ShapiroResult(statistic=0.9386807421264948, pvalue=0.5051151338730138)"
      ]
     },
     "execution_count": 7,
     "metadata": {},
     "output_type": "execute_result"
    }
   ],
   "source": [
    "stats.shapiro(weightlifters)"
   ]
  },
  {
   "cell_type": "markdown",
   "id": "623601d4-d428-47dc-b58c-03a13080915b",
   "metadata": {},
   "source": [
    "$p$ $value$ для каждой выборки больше $a$ - принимаем, что данные распределены нормально.\n",
    "\n",
    "Проверим равенство дисперсий."
   ]
  },
  {
   "cell_type": "code",
   "execution_count": 8,
   "id": "5645ecd2-d5fd-4f45-a504-b880d7da0eaf",
   "metadata": {},
   "outputs": [
    {
     "data": {
      "text/plain": [
       "BartlettResult(statistic=0.4640521043406442, pvalue=0.7929254656083131)"
      ]
     },
     "execution_count": 8,
     "metadata": {},
     "output_type": "execute_result"
    }
   ],
   "source": [
    "stats.bartlett(football_players, hockey_players, weightlifters)"
   ]
  },
  {
   "cell_type": "markdown",
   "id": "3c09a91b-0b48-48be-98c8-fe5ffe09bdcc",
   "metadata": {},
   "source": [
    "$p$ $value$ для каждой выборки больше $a$ - принимаем, что данные равны.\n",
    "\n",
    "Теперь можно провести однофакторный дисперсионный анализ.\n",
    "\n",
    "Сформулируем гипотезы:<br>\n",
    "$H0:\\mu_{1}=\\mu_{2}=\\mu_{3}$ - различия среднего роста среди взрослых футболистов, хоккеистов и штангистов нет<br>\n",
    "$H1:\\mu_{1}\\neq\\mu_{2}\\neq\\mu_{3}$ - различия среднего роста среди взрослых футболистов, хоккеистов и штангистов есть"
   ]
  },
  {
   "cell_type": "code",
   "execution_count": 10,
   "id": "f28a4411-8033-4189-8186-ac2aa5555533",
   "metadata": {},
   "outputs": [
    {
     "data": {
      "text/plain": [
       "F_onewayResult(statistic=5.500053450812596, pvalue=0.010482206918698694)"
      ]
     },
     "execution_count": 10,
     "metadata": {},
     "output_type": "execute_result"
    }
   ],
   "source": [
    "stats.f_oneway(football_players, hockey_players, weightlifters)"
   ]
  },
  {
   "cell_type": "markdown",
   "id": "bedf5348-abab-49a1-b201-e2c3cbabfc6a",
   "metadata": {},
   "source": [
    "Получили значение $p$ $value = 0,01048$ на уровне статистической значимости $a = 0,05$ значит отвергаем нулевую гипотезу.\n",
    "<br>Средний рост футболистов, хоккеистов и штангистоа различен."
   ]
  }
 ],
 "metadata": {
  "kernelspec": {
   "display_name": "Python 3 (ipykernel)",
   "language": "python",
   "name": "python3"
  },
  "language_info": {
   "codemirror_mode": {
    "name": "ipython",
    "version": 3
   },
   "file_extension": ".py",
   "mimetype": "text/x-python",
   "name": "python",
   "nbconvert_exporter": "python",
   "pygments_lexer": "ipython3",
   "version": "3.11.3"
  }
 },
 "nbformat": 4,
 "nbformat_minor": 5
}
